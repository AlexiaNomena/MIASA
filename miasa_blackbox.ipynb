{
 "cells": [
  {
   "cell_type": "code",
   "execution_count": 3,
   "id": "7b26c252",
   "metadata": {},
   "outputs": [
    {
     "data": {
      "text/plain": [
       "'Changes to local modules might not update if Kernel is not restarted'"
      ]
     },
     "execution_count": 3,
     "metadata": {},
     "output_type": "execute_result"
    }
   ],
   "source": [
    "\"\"\"Errors might remain if Kernel is not restarted\"\"\"\n",
    "\"\"\"Changes to local modules might not update if Kernel is not restarted\"\"\""
   ]
  },
  {
   "cell_type": "code",
   "execution_count": 4,
   "id": "ada83d39",
   "metadata": {},
   "outputs": [],
   "source": [
    "\"\"\" Necessary modules \"\"\"\n",
    "from matplotlib.backends.backend_pdf import PdfPages\n",
    "from Methods.classify import split_data, plotClass\n",
    "from Methods.miasa_class import Miasa_Class"
   ]
  },
  {
   "cell_type": "code",
   "execution_count": 5,
   "id": "1d395ac6",
   "metadata": {},
   "outputs": [],
   "source": [
    "\"\"\" Name and origin of dataset \"\"\"\n",
    "DataName = \"Distribution_data\"\n",
    "from Methods.simulate_class_data import generate_data_dist"
   ]
  },
  {
   "cell_type": "code",
   "execution_count": 16,
   "id": "3b8b84de",
   "metadata": {},
   "outputs": [],
   "source": [
    "\"\"\" Euclidean embedding pameters only used in MIASA (includes a finite number of auto adjustements)\"\"\"\n",
    "# type c_dic = {\"c1\":float, \"c2\":float, \"c3\":float} \n",
    "c_dic = \"default\" \n",
    "\n",
    "\"\"\" Load or Generate data: \n",
    "    \n",
    "    Required:\n",
    "    X and Y are the required separated datasets with M, N samples respectively and K realizations on the rows\n",
    "    X.shape = (M, K) \n",
    "    Y.shape = (N, K)\n",
    "    num_clust = number of clusters\n",
    "    dtp : tuple (datatype X_vars , datatype Y_vars) is needed for visualization only\n",
    "    \n",
    "\n",
    "    Not Required:\n",
    "    X_vars, Y_vars = Labels of X and Y samples\n",
    "    Class_True = True cluster labels of samples\n",
    "    \n",
    "\"\"\"\n",
    "data_dic_orig, class_dic, num_clust, dtp = generate_data_dist(var_data = False)\n",
    "X, Y, Class_True, X_vars, Y_vars = split_data(data_dic_orig, class_dic)"
   ]
  },
  {
   "cell_type": "code",
   "execution_count": 17,
   "id": "9c26b746",
   "metadata": {},
   "outputs": [],
   "source": [
    "\"\"\"\n",
    "Parameters of MIASA\n",
    "\"\"\"\n",
    "\n",
    "metric_method = (\"eCDF\", \"KS-stat\") # (Similarity, Association) distance models\n",
    "clust_method = \"Kmeans\" # clustering aglorithm to use\n",
    "palette = \"tab20\" # seaborn color palette\n",
    "dist_origin = (True,False) # for datasets (X, Y) decide if the distance to the origin of the axes is interpretable as the norm of the feature representations of the samples\n",
    "in_threads = False # True to avoid broken runs when using parallel jobs (relevant only for class_experiments)\n"
   ]
  },
  {
   "cell_type": "code",
   "execution_count": 18,
   "id": "be975c13",
   "metadata": {},
   "outputs": [],
   "source": [
    "\"\"\"\n",
    "If desired custom similarity feature representation (defining Euclidean similarity distance) \n",
    "and association measures then \n",
    "\n",
    "1) set \n",
    "    metric_method = \"precomputed\"\n",
    "2) give Feature_dic as parameter\n",
    "    Feature_dic[\"Feature_X\"] : array similarity features of dataset X: M samples and L features, X.shape = (M, L)\n",
    "    Feature_dic[\"Feature_Y\"] : array similarity features of dataset Y: M samples and S features, Y.shape = (N, S)\n",
    "    Feature_dic[\"Asssociation_function\"] : a function of argument tuple full datasets (X, Y) or pair of samples (X_i, Y_j) computing the pairwise association between the samples of X and Y\n",
    "    \n",
    "    Feature_dic[\"assoc_func_type\"] : type of the association function as options\n",
    "                                    option 1: str vectorized     : argument full datasets (X, Y) => return directly the Asscociation distance matrix of shape (M, N) \n",
    "                                    option 2: str not_vectorized : argument samples (X_i, Y_j)   => return a scalar = Associaiton distance between sample X_i and sample Y_j\n",
    "\n",
    "        \n",
    "example:\n",
    "    \n",
    "from Methods.Generate_Features import eCDF, get_assoc_func\n",
    "metric_method = \"precomputed\"\n",
    "Feature_dic = {} \n",
    "Feature_dic[\"Feature_X\"], Feature_dic[\"Feature_Y\"] = eCDF(X,Y)\n",
    "Feature_dic[\"Asssociation_function\"], Feature_dic[\"assoc_func_type\"] = get_assoc_func(\"KS-stat\")\n",
    "\"\"\"\n",
    "Feature_dic = None"
   ]
  },
  {
   "cell_type": "code",
   "execution_count": 19,
   "id": "337a67dd",
   "metadata": {},
   "outputs": [
    {
     "name": "stdout",
     "output_type": "stream",
     "text": [
      "Replacement matrix is PSD: success Euclidean embedding\n"
     ]
    }
   ],
   "source": [
    "\"\"\" \n",
    "Perform MIASA Classification of samples\n",
    "\n",
    "\"\"\"\n",
    "Id_Class = Miasa_Class(X, Y, num_clust, \n",
    "                       dist_origin = dist_origin, \n",
    "                       metric_method = metric_method, \n",
    "                       clust_method = clust_method, \n",
    "                       c_dic = c_dic, Feature_dic = Feature_dic,\n",
    "                       in_threads = in_threads,\n",
    "                       palette = palette)"
   ]
  },
  {
   "cell_type": "code",
   "execution_count": null,
   "id": "5d4cd3b1",
   "metadata": {},
   "outputs": [],
   "source": [
    "\"\"\"Lower Dimensional visualization of clusters (UMAP visualization)\"\"\"\n",
    "pdf= PdfPages(\"Figures/\"+DataName+\".pdf\")\n",
    "plotClass(Id_Class, X_vars, Y_vars, pdf, dtp, run_num = 1, n_neighbors = 5, min_dist = 0.99)\n",
    "pdf.close()\n",
    "import matplotlib.pyplot as plt\n",
    "plt.show()"
   ]
  },
  {
   "cell_type": "code",
   "execution_count": null,
   "id": "ffab608d",
   "metadata": {},
   "outputs": [],
   "source": []
  }
 ],
 "metadata": {
  "kernelspec": {
   "display_name": "macPy3",
   "language": "python",
   "name": "macpy3"
  },
  "language_info": {
   "codemirror_mode": {
    "name": "ipython",
    "version": 3
   },
   "file_extension": ".py",
   "mimetype": "text/x-python",
   "name": "python",
   "nbconvert_exporter": "python",
   "pygments_lexer": "ipython3",
   "version": "3.10.4"
  }
 },
 "nbformat": 4,
 "nbformat_minor": 5
}
